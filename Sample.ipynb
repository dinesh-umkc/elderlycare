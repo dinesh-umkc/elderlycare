{
 "cells": [
  {
   "cell_type": "code",
   "execution_count": null,
   "metadata": {},
   "outputs": [],
   "source": [
    "import pandas as pd\n",
    "import uuid\n",
    "\n",
    "class Question:\n",
    "  questionId: str\n",
    "  questionText: str\n",
    "  answerText: str\n",
    "  def __init__(self, qId: str, qText: str,aText: str) -> None:\n",
    "        self.questionId = qId\n",
    "        self.questionText = qText\n",
    "        self.answerText = aText\n",
    "  \n",
    "\n",
    "questions=[]\n",
    "df = pd.read_csv(\"alzheimer_questionaire.csv\",encoding = 'cp1252')\n",
    "df=df.sample(5)\n",
    "for question,answer in df['question',df['answer']]:\n",
    "  print(question, answer)\n",
    "  questions.append(Question(uuid.uuid4().hex,question, answer))\n",
    "\n"
   ]
  }
 ],
 "metadata": {
  "kernelspec": {
   "display_name": "Python 3.10.8 64-bit (microsoft store)",
   "language": "python",
   "name": "python3"
  },
  "language_info": {
   "name": "python",
   "version": "3.10.8"
  },
  "orig_nbformat": 4,
  "vscode": {
   "interpreter": {
    "hash": "f7f1f1ab4d88ae42e8502814ef307fb439607a8b564d8819a8f8e04b08de9098"
   }
  }
 },
 "nbformat": 4,
 "nbformat_minor": 2
}
